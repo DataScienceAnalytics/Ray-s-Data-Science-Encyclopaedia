{
 "cells": [
  {
   "cell_type": "markdown",
   "id": "1d9f4ad5",
   "metadata": {},
   "source": [
    "### Get data info"
   ]
  },
  {
   "cell_type": "code",
   "execution_count": 2,
   "id": "6382b340",
   "metadata": {},
   "outputs": [],
   "source": [
    "#dataframe info\n",
    "df.info\n",
    "\n",
    "#check null value\n",
    "df.isnull().sum()\n",
    "\n",
    "#Shape\n",
    "df.shape\n",
    "\n",
    "#Column distribution summary\n",
    "df.describe().transpose()#.round(1)\n",
    "\n",
    "#Make sure to check and convert some fields into the proper types before feeding into the model"
   ]
  },
  {
   "cell_type": "markdown",
   "id": "cc7c639b",
   "metadata": {},
   "source": [
    "### Join or stack dataframes"
   ]
  },
  {
   "cell_type": "code",
   "execution_count": null,
   "id": "cfaf7dbd",
   "metadata": {},
   "outputs": [],
   "source": [
    "#Left join example\n",
    "joined_df = df1.merge(df2,\n",
    "               left_on='uid_s', right_on='uid_s', how='left')"
   ]
  },
  {
   "cell_type": "code",
   "execution_count": null,
   "id": "f1f69f7e",
   "metadata": {},
   "outputs": [],
   "source": [
    "#Stack two df on top of each other\n",
    "c = pd.concat([a,b],ignore_index=True)"
   ]
  },
  {
   "cell_type": "markdown",
   "id": "d2a975f5",
   "metadata": {},
   "source": [
    "### Filter & Sort Value"
   ]
  },
  {
   "cell_type": "code",
   "execution_count": null,
   "id": "a3d09dd3",
   "metadata": {},
   "outputs": [],
   "source": [
    "#Example: select country = keny and with system crisis. Sort by year column\n",
    "df[(df['country']=='Kenya') & (df['systemic_crisis']==1)].sort_values('year')\n",
    "\n",
    "#Sort in descending order \n",
    "df[df['country']==\"Algeria\"].sort_values('exch_usd',ascending=False)"
   ]
  },
  {
   "cell_type": "markdown",
   "id": "403a230e",
   "metadata": {},
   "source": [
    "### Group by and Aggregate"
   ]
  },
  {
   "cell_type": "code",
   "execution_count": null,
   "id": "2537bc33",
   "metadata": {},
   "outputs": [],
   "source": [
    "#Examples\n",
    "df.groupby('country').count()['systemic_crisis']\n",
    "df.groupby('A')['B'].mean()"
   ]
  },
  {
   "cell_type": "markdown",
   "id": "52966acd",
   "metadata": {},
   "source": [
    "### Drop Columns"
   ]
  },
  {
   "cell_type": "code",
   "execution_count": null,
   "id": "0333cb2a",
   "metadata": {},
   "outputs": [],
   "source": [
    "df.drop(['column_name'],axis = 1,inplace = True)"
   ]
  },
  {
   "cell_type": "markdown",
   "id": "f5178666",
   "metadata": {},
   "source": [
    "### Visualize Data"
   ]
  },
  {
   "cell_type": "markdown",
   "id": "0ad97cd5",
   "metadata": {},
   "source": [
    "- Make sure to do this exploration in case some column has different unit within itself. E.g a column mix with cm & m"
   ]
  },
  {
   "cell_type": "code",
   "execution_count": 3,
   "id": "73cbeef9",
   "metadata": {},
   "outputs": [],
   "source": [
    "import numpy as np\n",
    "import matplotlib.pyplot as plt\n",
    "import seaborn as sns\n",
    "%matplotlib inline"
   ]
  },
  {
   "cell_type": "code",
   "execution_count": 4,
   "id": "21070d73",
   "metadata": {},
   "outputs": [],
   "source": [
    "import warnings\n",
    "warnings.filterwarnings(\"ignore\")"
   ]
  },
  {
   "cell_type": "code",
   "execution_count": null,
   "id": "243f5ceb",
   "metadata": {},
   "outputs": [],
   "source": [
    "#For binary classification\n",
    "final_df['target'].value_counts()"
   ]
  },
  {
   "cell_type": "code",
   "execution_count": null,
   "id": "5f53fdcc",
   "metadata": {},
   "outputs": [],
   "source": [
    "#Bar Chart visualize target class distribution\n",
    "sns.countplot(x='target',data=final_df)"
   ]
  },
  {
   "cell_type": "code",
   "execution_count": null,
   "id": "4ba6cb5f",
   "metadata": {},
   "outputs": [],
   "source": [
    "#Distribution plot of a continuous variable\n",
    "#Example: Spend distribution on users \n",
    "plt.figure(figsize=(12,4))\n",
    "sns.distplot(final_df['total_spend'],kde=False,bins=50)\n",
    "#plt.xlim(0,500) #Set value limit"
   ]
  },
  {
   "attachments": {
    "image.png": {
     "image/png": "[encoded data removed]"
    }
   },
   "cell_type": "markdown",
   "id": "95feb3f2",
   "metadata": {},
   "source": [
    "![image.png](attachment:image.png)"
   ]
  },
  {
   "cell_type": "code",
   "execution_count": 5,
   "id": "d515ee31",
   "metadata": {},
   "outputs": [],
   "source": [
    "#Distribution plot of multiple column together\n",
    "\n",
    "#Input: dataframe, cols is a list of col names, n column is the number of col in the final plot\n",
    "\n",
    "def dfdisplot(df, cols, rowSize=3, colSize=3, nCol=3):\n",
    "    if len(cols) % nCol == 0:\n",
    "        nRow= len(cols)// nCol\n",
    "    else:\n",
    "        nRow= len(cols)// nCol + 1\n",
    "    fig,axes = plt.subplots(nRow,nCol,figsize=(nCol*colSize, nRow*rowSize))\n",
    "    axes = axes.flatten()\n",
    "    for i, var_name in enumerate(cols):\n",
    "        g = sns.distplot(df[var_name],ax= axes[i]);\n",
    "     \n",
    "    fig.tight_layout()\n",
    "    fig.show()"
   ]
  },
  {
   "cell_type": "markdown",
   "id": "57ee2da5",
   "metadata": {},
   "source": [
    "### Handling Null Value (raw method)"
   ]
  },
  {
   "cell_type": "code",
   "execution_count": 7,
   "id": "c613e7bd",
   "metadata": {},
   "outputs": [],
   "source": [
    "#Fill with mean\n",
    "df.fillna(df.mean())"
   ]
  },
  {
   "cell_type": "code",
   "execution_count": null,
   "id": "e032bad4",
   "metadata": {},
   "outputs": [],
   "source": [
    "#drop null value rows based on column\n",
    "df = df.dropna(axis=0, subset=['based_on_column'])"
   ]
  },
  {
   "cell_type": "markdown",
   "id": "f181ba0c",
   "metadata": {},
   "source": [
    "### String Manipulation & Format Cleaning"
   ]
  },
  {
   "cell_type": "code",
   "execution_count": null,
   "id": "0203d85f",
   "metadata": {},
   "outputs": [],
   "source": [
    "#Example\n",
    "#convert string showing as '120\\80' to '120/80'\n",
    "def string_modify(x):\n",
    "    return x.replace('\\\\', \"/\")"
   ]
  },
  {
   "cell_type": "code",
   "execution_count": 12,
   "id": "25c98ae7",
   "metadata": {},
   "outputs": [
    {
     "data": {
      "text/plain": [
       "80"
      ]
     },
     "execution_count": 12,
     "metadata": {},
     "output_type": "execute_result"
    }
   ],
   "source": [
    "#Extract numbers from a fraction string like 120/80 as two variables \n",
    "nominator, denominator = '120/80'.split('/')\n",
    "\n",
    "int(denominator)"
   ]
  },
  {
   "cell_type": "markdown",
   "id": "d6ceecd1",
   "metadata": {},
   "source": [
    "### Generalize the dataframe cleaning"
   ]
  },
  {
   "cell_type": "code",
   "execution_count": null,
   "id": "f963eb12",
   "metadata": {},
   "outputs": [],
   "source": [
    "#Example\n",
    "def data_prep(df):\n",
    "    df['gender'] = df['gender'].apply(lambda x: cleaning_gender(x))\n",
    "    df['pressure'] = df['pressure'].apply(lambda x: press_cleaning(x))\n",
    "    df['pressure_high'] = df['pressure'].apply(lambda x:press_high(x) )\n",
    "    df['pressure_low'] = df['pressure'].apply(lambda x:press_low(x) )\n",
    "    df['age'] = df['age'].apply(lambda x: clean_age(x))\n",
    "    df['pressure_pct'] = df['pressure_high']/df['pressure_low']\n",
    "    \n",
    "    return df"
   ]
  }
 ],
 "metadata": {
  "kernelspec": {
   "display_name": "Python 3",
   "language": "python",
   "name": "python3"
  },
  "language_info": {
   "codemirror_mode": {
    "name": "ipython",
    "version": 3
   },
   "file_extension": ".py",
   "mimetype": "text/x-python",
   "name": "python",
   "nbconvert_exporter": "python",
   "pygments_lexer": "ipython3",
   "version": "3.7.2"
  }
 },
 "nbformat": 4,
 "nbformat_minor": 5
}
