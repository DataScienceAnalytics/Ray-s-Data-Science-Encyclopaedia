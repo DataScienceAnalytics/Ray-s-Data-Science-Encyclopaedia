{
 "cells": [
  {
   "cell_type": "markdown",
   "id": "36993892-2292-404e-8c2d-e251c8f2bc35",
   "metadata": {},
   "source": [
    "## Arithmetic Operators"
   ]
  },
  {
   "cell_type": "code",
   "execution_count": 18,
   "id": "94f7c551-18d1-4b7a-8de8-759877bee6cf",
   "metadata": {},
   "outputs": [
    {
     "name": "stdout",
     "output_type": "stream",
     "text": [
      "15\n",
      "5.0\n",
      "4\n",
      "16\n",
      "3\n"
     ]
    }
   ],
   "source": [
    "# Multiplication, division, modulo, and exponentiation\n",
    "print(3 * 5)\n",
    "print(10 / 2)\n",
    "print(18 % 7)\n",
    "print(4 ** 2)\n",
    "print(10 // 3) #floor. The division without modulo"
   ]
  },
  {
   "cell_type": "code",
   "execution_count": 55,
   "id": "d6e621d3-08db-46c9-bd64-ca549829a001",
   "metadata": {},
   "outputs": [
    {
     "data": {
      "text/plain": [
       "1.23"
      ]
     },
     "execution_count": 55,
     "metadata": {},
     "output_type": "execute_result"
    }
   ],
   "source": [
    "#round number to the last 2 digit\n",
    "round(1.231231,2)"
   ]
  },
  {
   "cell_type": "code",
   "execution_count": 58,
   "id": "9e4ddc0d-06b0-41bf-afbb-e3265924ca2c",
   "metadata": {},
   "outputs": [
    {
     "name": "stdout",
     "output_type": "stream",
     "text": [
      "1.23\n",
      "56.00\n"
     ]
    }
   ],
   "source": [
    "#output as a string with 2 digit\n",
    "print(format(1.231231, \".2f\"))\n",
    "print(format(56, \".2f\"))"
   ]
  },
  {
   "cell_type": "markdown",
   "id": "8b4c5a81-ac87-4244-81f8-9f71578df371",
   "metadata": {},
   "source": [
    "## String"
   ]
  },
  {
   "cell_type": "code",
   "execution_count": 6,
   "id": "42a90b21-d524-4874-8346-5f7bc163bc64",
   "metadata": {},
   "outputs": [
    {
     "data": {
      "text/plain": [
       "123.123123"
      ]
     },
     "execution_count": 6,
     "metadata": {},
     "output_type": "execute_result"
    }
   ],
   "source": [
    "#cast a variable\n",
    "str(123)\n",
    "int('123')\n",
    "float('123.123123')"
   ]
  },
  {
   "cell_type": "code",
   "execution_count": 7,
   "id": "ce977b66-4ece-4bc8-ada7-1b6e7ae1c439",
   "metadata": {},
   "outputs": [
    {
     "name": "stdout",
     "output_type": "stream",
     "text": [
      "llo\n"
     ]
    }
   ],
   "source": [
    "#slicing string\n",
    "b = \"Hello, World!\"\n",
    "print(b[2:5])"
   ]
  },
  {
   "cell_type": "code",
   "execution_count": 8,
   "id": "4d1af4a1-0c5a-409c-b843-d83662e02994",
   "metadata": {},
   "outputs": [
    {
     "name": "stdout",
     "output_type": "stream",
     "text": [
      "HELLO, WORLD!\n"
     ]
    }
   ],
   "source": [
    "#upper case\n",
    "a = \"Hello, World!\"\n",
    "print(a.upper())"
   ]
  },
  {
   "cell_type": "code",
   "execution_count": 10,
   "id": "08df9bdd-2998-4515-b403-6ca6c5996503",
   "metadata": {},
   "outputs": [
    {
     "name": "stdout",
     "output_type": "stream",
     "text": [
      "Hello, World!\n"
     ]
    }
   ],
   "source": [
    "#remove white space from the beginning or end\n",
    "a = \"               Hello, World!              \"\n",
    "print(a.strip())"
   ]
  },
  {
   "cell_type": "code",
   "execution_count": 11,
   "id": "97c1cc36-2ea2-445d-aa88-b0db1b3a58f8",
   "metadata": {},
   "outputs": [
    {
     "name": "stdout",
     "output_type": "stream",
     "text": [
      "Jello, World!\n"
     ]
    }
   ],
   "source": [
    "#replacing string \n",
    "a = \"Hello, World!\"\n",
    "print(a.replace(\"H\", \"J\"))"
   ]
  },
  {
   "cell_type": "code",
   "execution_count": 14,
   "id": "fc5def76-cb15-4bf9-8c0e-3dcc1a31843b",
   "metadata": {},
   "outputs": [
    {
     "name": "stdout",
     "output_type": "stream",
     "text": [
      "['Hello', ' World!']\n"
     ]
    }
   ],
   "source": [
    "#splitting string\n",
    "a = \"Hello, World!\"\n",
    "print(a.split(\",\")) # returns ['Hello', ' World!'] "
   ]
  },
  {
   "cell_type": "code",
   "execution_count": 17,
   "id": "c4d957cf-5517-4fc6-b2c8-ebe2fabd10c3",
   "metadata": {},
   "outputs": [
    {
     "name": "stdout",
     "output_type": "stream",
     "text": [
      "My name is John, I am 36\n"
     ]
    }
   ],
   "source": [
    "#format string with variable\n",
    "age = 36\n",
    "txt = f\"My name is John, I am {age}\"\n",
    "print(txt)"
   ]
  },
  {
   "cell_type": "markdown",
   "id": "15f97a65-f9fa-4915-b422-972a649ae5e0",
   "metadata": {},
   "source": [
    "## Lists"
   ]
  },
  {
   "cell_type": "code",
   "execution_count": 29,
   "id": "ef2e62ad-fac9-4269-97dd-805deed97e71",
   "metadata": {},
   "outputs": [
    {
     "name": "stdout",
     "output_type": "stream",
     "text": [
      "11.25\n",
      "9.5\n"
     ]
    }
   ],
   "source": [
    "# Create the areas list\n",
    "areas = [\"hallway\", 11.25, \"kitchen\", 18.0, \"living room\", 20.0, \"bedroom\", 10.75, \"bathroom\", 9.50]\n",
    "\n",
    "# Print out second element from areas\n",
    "print(areas[1])\n",
    "\n",
    "# Print out last element from areas\n",
    "print(areas[-1])\n",
    "\n",
    "# Use slicing to create downstairs\n",
    "downstairs=areas[0:6]\n",
    "\n",
    "# Use slicing to create upstairs\n",
    "upstairs=areas[-4:]"
   ]
  },
  {
   "cell_type": "code",
   "execution_count": 30,
   "id": "a1fd5868-068b-4ff4-bdfd-a64d265504be",
   "metadata": {},
   "outputs": [],
   "source": [
    "#add element to a list\n",
    "# Add poolhouse data to areas, new list is areas_1\n",
    "areas_1 = areas+[\"poolhouse\",24.5]"
   ]
  },
  {
   "cell_type": "code",
   "execution_count": null,
   "id": "e6160d6c-19ad-44fc-92aa-cb4514491569",
   "metadata": {},
   "outputs": [],
   "source": [
    "# Sort list full in descending order: full_sorted\n",
    "full_sorted=sorted(full,reverse=True)"
   ]
  },
  {
   "cell_type": "code",
   "execution_count": 3,
   "id": "105494fc-4749-4296-8154-def64ab35e53",
   "metadata": {},
   "outputs": [
    {
     "name": "stdout",
     "output_type": "stream",
     "text": [
      "['apple', 'banana', 'watermelon', 'cherry']\n"
     ]
    }
   ],
   "source": [
    "# insert into list at a certain position\n",
    "thislist = [\"apple\", \"banana\", \"cherry\"]\n",
    "thislist.insert(2, \"watermelon\")\n",
    "print(thislist)"
   ]
  },
  {
   "cell_type": "code",
   "execution_count": 19,
   "id": "bee678a0-690d-4565-8732-52fcbe3cedb8",
   "metadata": {},
   "outputs": [
    {
     "name": "stdout",
     "output_type": "stream",
     "text": [
      "['apple', 'banana', 'cherry', 'mango', 'pineapple', 'papaya']\n"
     ]
    }
   ],
   "source": [
    "# Extend list with another list\n",
    "thislist = [\"apple\", \"banana\", \"cherry\"]\n",
    "tropical = [\"mango\", \"pineapple\", \"papaya\"]\n",
    "thislist.extend(tropical)\n",
    "print(thislist)"
   ]
  },
  {
   "cell_type": "code",
   "execution_count": 21,
   "id": "b01033f0-14f8-47e3-8f94-377ae35d629d",
   "metadata": {},
   "outputs": [
    {
     "name": "stdout",
     "output_type": "stream",
     "text": [
      "['apple', 'banana', 'cherry', 'kiwi', 'orange']\n"
     ]
    }
   ],
   "source": [
    "#Add elements of a tuple to a list:\n",
    "thislist = [\"apple\", \"banana\", \"cherry\"]\n",
    "thistuple = (\"kiwi\", \"orange\")\n",
    "thislist.extend(thistuple)\n",
    "print(thislist)"
   ]
  },
  {
   "cell_type": "code",
   "execution_count": 22,
   "id": "85fdc23b-43fb-4097-9479-c9d1c3120df6",
   "metadata": {},
   "outputs": [
    {
     "name": "stdout",
     "output_type": "stream",
     "text": [
      "['banana', 'cherry', 'kiwi', 'mango']\n"
     ]
    }
   ],
   "source": [
    "# List comprehension\n",
    "fruits = [\"apple\", \"banana\", \"cherry\", \"kiwi\", \"mango\"]\n",
    "newlist = [x for x in fruits if \"a\" in x]\n",
    "#newlist = [x for x in fruits if x != \"apple\"]\n",
    "print(newlist) "
   ]
  },
  {
   "cell_type": "code",
   "execution_count": 23,
   "id": "bce8e188-003a-4d9e-bc15-05a2a7d904fb",
   "metadata": {},
   "outputs": [],
   "source": [
    "#remove list items based on item value/name\n",
    "thislist = [\"apple\", \"banana\", \"cherry\"]\n",
    "thislist.remove(\"banana\")"
   ]
  },
  {
   "cell_type": "code",
   "execution_count": 23,
   "id": "5e01ea06-e2f4-4a35-b41f-b6dbad9ea95d",
   "metadata": {},
   "outputs": [],
   "source": [
    "#remove list item based on index\n",
    "thislist = [\"apple\", \"banana\", \"cherry\"]\n",
    "thislist.pop(1)"
   ]
  },
  {
   "cell_type": "code",
   "execution_count": 25,
   "id": "b021f57c-e17b-405b-879d-4e59024bbebb",
   "metadata": {},
   "outputs": [
    {
     "name": "stdout",
     "output_type": "stream",
     "text": [
      "['pineapple', 'orange', 'mango', 'kiwi', 'banana']\n"
     ]
    }
   ],
   "source": [
    "#sort list\n",
    "thislist = [\"orange\", \"mango\", \"kiwi\", \"pineapple\", \"banana\"]\n",
    "thislist.sort(reverse = True)\n",
    "print(thislist)"
   ]
  },
  {
   "cell_type": "code",
   "execution_count": 26,
   "id": "8c9d9ddf-e4ed-4f65-b59d-f999956a5cdd",
   "metadata": {},
   "outputs": [],
   "source": [
    "#merge list\n",
    "list1 = [\"a\", \"b\", \"c\"]\n",
    "list2 = [1, 2, 3]\n",
    "list3 = list1 + list2"
   ]
  },
  {
   "cell_type": "markdown",
   "id": "37ff298a-19f7-432a-80de-2ee98c624b5a",
   "metadata": {},
   "source": [
    "## Tuple"
   ]
  },
  {
   "cell_type": "code",
   "execution_count": 27,
   "id": "9c0ce04c-af42-4bd7-823d-44090dfded09",
   "metadata": {},
   "outputs": [
    {
     "name": "stdout",
     "output_type": "stream",
     "text": [
      "<class 'tuple'>\n",
      "<class 'str'>\n"
     ]
    }
   ],
   "source": [
    "# Create tuple with one item (need a comma)\n",
    "thistuple = (\"apple\",)\n",
    "print(type(thistuple))\n",
    "\n",
    "#NOT a tuple\n",
    "thistuple = (\"apple\")\n",
    "print(type(thistuple)) "
   ]
  },
  {
   "cell_type": "code",
   "execution_count": null,
   "id": "81c07f17-53a6-43b8-a99a-a94618456e05",
   "metadata": {},
   "outputs": [],
   "source": [
    "# list and tuple conversion. Need to first convert to a list then make modification\n",
    "x = (\"apple\", \"banana\", \"cherry\")\n",
    "y = list(x)\n",
    "y[1] = \"kiwi\"\n",
    "x = tuple(y)"
   ]
  },
  {
   "cell_type": "code",
   "execution_count": 32,
   "id": "54ddc56e-650c-4dea-90b0-9e283dec60f7",
   "metadata": {},
   "outputs": [],
   "source": [
    "#join combine tuples\n",
    "tuple1 = (\"a\", \"b\" , \"c\")\n",
    "tuple2 = (1, 2, 3)\n",
    "tuple3 = tuple1 + tuple2"
   ]
  },
  {
   "cell_type": "markdown",
   "id": "877550b6-fe45-4b6b-9e58-9f8cc98bb6ea",
   "metadata": {},
   "source": [
    "## Set "
   ]
  },
  {
   "cell_type": "code",
   "execution_count": 34,
   "id": "ea55a486-460b-4908-a70f-72e748b9bb96",
   "metadata": {},
   "outputs": [
    {
     "name": "stdout",
     "output_type": "stream",
     "text": [
      "{'banana', 'apple', 'cherry'}\n",
      "<class 'set'>\n"
     ]
    }
   ],
   "source": [
    "thisset = {\"apple\", \"banana\", \"cherry\", \"apple\"}\n",
    "print(thisset)\n",
    "print(type(thisset))"
   ]
  },
  {
   "cell_type": "code",
   "execution_count": 37,
   "id": "826c98cd-2c69-4a17-9024-2105d80f17ba",
   "metadata": {},
   "outputs": [
    {
     "data": {
      "text/plain": [
       "{'apple', 'banana', 'cherry'}"
      ]
     },
     "execution_count": 37,
     "metadata": {},
     "output_type": "execute_result"
    }
   ],
   "source": [
    "set([\"apple\", \"banana\", \"cherry\", \"apple\"])"
   ]
  },
  {
   "cell_type": "code",
   "execution_count": null,
   "id": "4e197470-088d-4e91-93f0-3a572a72e057",
   "metadata": {},
   "outputs": [],
   "source": [
    "#remove item from set\n",
    "thisset.remove(\"banana\")"
   ]
  },
  {
   "cell_type": "code",
   "execution_count": null,
   "id": "2e2e08e9-ba73-4138-900e-3363caccbd7a",
   "metadata": {},
   "outputs": [],
   "source": [
    "#union set\n",
    "set1 = {\"a\", \"b\", \"c\"}\n",
    "set2 = {1, 2, 3}\n",
    "set3 = set1.union(set2)\n",
    "\n",
    "#join set\n",
    "set1 = {\"a\", \"b\", \"c\"}\n",
    "set2 = {1, 2, 3}\n",
    "set3 = set1 | set2"
   ]
  },
  {
   "cell_type": "markdown",
   "id": "8b5acee6-8820-41e6-a744-5667b73e7147",
   "metadata": {},
   "source": [
    "## Dictionary"
   ]
  },
  {
   "cell_type": "code",
   "execution_count": 38,
   "id": "d1bb7e94-60ab-4f5c-9f2f-7dea194aac91",
   "metadata": {},
   "outputs": [],
   "source": [
    "thisdict =\t{\n",
    "  \"brand\": \"Ford\",\n",
    "  \"electric\": False,\n",
    "  \"year\": 1964,\n",
    "  \"colors\": [\"red\", \"white\", \"blue\"]\n",
    "} "
   ]
  },
  {
   "cell_type": "code",
   "execution_count": 39,
   "id": "51ac33d4-2f64-4722-a68a-40bb914e05d4",
   "metadata": {},
   "outputs": [
    {
     "data": {
      "text/plain": [
       "'Ford'"
      ]
     },
     "execution_count": 39,
     "metadata": {},
     "output_type": "execute_result"
    }
   ],
   "source": [
    "# access value with key\n",
    "thisdict[\"brand\"]"
   ]
  },
  {
   "cell_type": "code",
   "execution_count": 40,
   "id": "e1811e11-34f3-402c-88eb-7b75f4b7a6b0",
   "metadata": {},
   "outputs": [
    {
     "data": {
      "text/plain": [
       "dict_values(['Ford', False, 1964, ['red', 'white', 'blue']])"
      ]
     },
     "execution_count": 40,
     "metadata": {},
     "output_type": "execute_result"
    }
   ],
   "source": [
    "# get a list of values in dict\n",
    "thisdict.values()"
   ]
  },
  {
   "cell_type": "code",
   "execution_count": 41,
   "id": "6b96e414-a4e9-4cba-96f6-e17828e1b751",
   "metadata": {},
   "outputs": [
    {
     "data": {
      "text/plain": [
       "dict_keys(['brand', 'electric', 'year', 'colors'])"
      ]
     },
     "execution_count": 41,
     "metadata": {},
     "output_type": "execute_result"
    }
   ],
   "source": [
    "# get a list of keys in dict\n",
    "thisdict.keys()"
   ]
  },
  {
   "cell_type": "code",
   "execution_count": null,
   "id": "ea851cba-76b9-46bc-a3b7-6366013844e8",
   "metadata": {},
   "outputs": [],
   "source": [
    "#add item to dictionary\n",
    "thisdict[\"color_extra\"] = \"red\""
   ]
  },
  {
   "cell_type": "code",
   "execution_count": null,
   "id": "8c1eb9b8-cc51-4cb8-860f-23705b09bb3a",
   "metadata": {},
   "outputs": [],
   "source": [
    "#loop dictionary\n",
    "#loop values\n",
    "for x in thisdict.values():\n",
    "  print(x) \n",
    "\n",
    "#loop keys\n",
    "for x in thisdict.keys(): #or for x in thisdict (this also loops through keys)\n",
    "  print(x)\n",
    "\n",
    "#loop items (key value pair):\n",
    "for x, y in thisdict.items():\n",
    "  print(x, y) "
   ]
  },
  {
   "cell_type": "markdown",
   "id": "50eea63e-6242-43fb-a9aa-06135da70316",
   "metadata": {},
   "source": [
    "## if - else"
   ]
  },
  {
   "cell_type": "code",
   "execution_count": 43,
   "id": "76a84bea-19ce-4c41-a65b-09ea04fa008c",
   "metadata": {},
   "outputs": [
    {
     "name": "stdout",
     "output_type": "stream",
     "text": [
      "true\n",
      "true\n"
     ]
    }
   ],
   "source": [
    "#use if if will evaluate every rule while use if elif will stop once a condition is met\n",
    "if 1>0:\n",
    "    print('true')\n",
    "if 2>1:\n",
    "    print('true')"
   ]
  },
  {
   "cell_type": "code",
   "execution_count": 42,
   "id": "435f3448-b7da-45d3-bc38-6c0cf2e47b91",
   "metadata": {},
   "outputs": [
    {
     "name": "stdout",
     "output_type": "stream",
     "text": [
      "a is greater than b\n"
     ]
    }
   ],
   "source": [
    "a = 200\n",
    "b = 33\n",
    "if b > a:\n",
    "  print(\"b is greater than a\")\n",
    "elif a == b:\n",
    "  print(\"a and b are equal\")\n",
    "else:\n",
    "  print(\"a is greater than b\")"
   ]
  },
  {
   "cell_type": "markdown",
   "id": "17298e81-7013-4fb0-9ea0-d0bc5da67b24",
   "metadata": {},
   "source": [
    "## while loop"
   ]
  },
  {
   "cell_type": "code",
   "execution_count": 44,
   "id": "6e0b5ff6-2fcd-4f47-ae2b-a1cb1fbd065e",
   "metadata": {},
   "outputs": [
    {
     "name": "stdout",
     "output_type": "stream",
     "text": [
      "1\n",
      "2\n",
      "3\n",
      "4\n",
      "5\n"
     ]
    }
   ],
   "source": [
    "#Print i as long as i is less than 6:\n",
    "i = 1\n",
    "while i < 6:\n",
    "  print(i)\n",
    "  i += 1"
   ]
  },
  {
   "cell_type": "code",
   "execution_count": 45,
   "id": "0a0d7972-b469-4edb-8fd6-15825b4a8192",
   "metadata": {},
   "outputs": [
    {
     "name": "stdout",
     "output_type": "stream",
     "text": [
      "1\n",
      "2\n",
      "3\n"
     ]
    }
   ],
   "source": [
    "#breakout of the while loop\n",
    "i = 1\n",
    "while i < 6:\n",
    "  print(i)\n",
    "  if i == 3:\n",
    "    break\n",
    "  i += 1 "
   ]
  },
  {
   "cell_type": "code",
   "execution_count": 46,
   "id": "2ce51f6b-c3b5-4086-8a11-df6b98065723",
   "metadata": {},
   "outputs": [
    {
     "name": "stdout",
     "output_type": "stream",
     "text": [
      "1\n",
      "2\n",
      "4\n",
      "5\n",
      "6\n"
     ]
    }
   ],
   "source": [
    "#continue while loop (skip when i == 3 and goes back to the loop start)\n",
    "i = 0\n",
    "while i < 6:\n",
    "  i += 1\n",
    "  if i == 3:\n",
    "    continue\n",
    "  print(i)"
   ]
  },
  {
   "cell_type": "markdown",
   "id": "c639c81c-1895-4e81-a315-c4a4d2e36c33",
   "metadata": {},
   "source": [
    "## For Loop"
   ]
  },
  {
   "cell_type": "code",
   "execution_count": null,
   "id": "52b8afc7-ac50-4919-8755-f3d4d0e8e840",
   "metadata": {},
   "outputs": [],
   "source": [
    "for x in range(3):\n",
    "  print(x)\n",
    "\n",
    "for x in range(1,3):\n",
    "  print(x)\n",
    "\n",
    "for x in range(2, 30, 3):\n",
    "  print(x)"
   ]
  },
  {
   "cell_type": "markdown",
   "id": "3fb0367b-97bc-486d-9fe1-c6ff2e502da4",
   "metadata": {},
   "source": [
    "## Lambda Function"
   ]
  },
  {
   "cell_type": "code",
   "execution_count": 47,
   "id": "c4105685-480b-4018-a98f-496b32af5abf",
   "metadata": {},
   "outputs": [
    {
     "name": "stdout",
     "output_type": "stream",
     "text": [
      "15\n"
     ]
    }
   ],
   "source": [
    "x = lambda a : a + 10\n",
    "print(x(5))"
   ]
  },
  {
   "cell_type": "markdown",
   "id": "28a7b649-f1a1-4b23-989a-90d9c0cebe8d",
   "metadata": {},
   "source": [
    "## OOP - object oriented programmingclass Person:"
   ]
  },
  {
   "cell_type": "code",
   "execution_count": 48,
   "id": "1276d719-8678-4f0c-b688-53029b71c301",
   "metadata": {},
   "outputs": [
    {
     "name": "stdout",
     "output_type": "stream",
     "text": [
      "John\n",
      "36\n"
     ]
    }
   ],
   "source": [
    "class Person:\n",
    "  def __init__(self, name, age):\n",
    "    self.name = name\n",
    "    self.age = age\n",
    "\n",
    "p1 = Person(\"John\", 36)\n",
    "\n",
    "print(p1.name)\n",
    "print(p1.age) "
   ]
  },
  {
   "cell_type": "code",
   "execution_count": 53,
   "id": "b7c9effa-6021-479b-98eb-00b51f584160",
   "metadata": {},
   "outputs": [
    {
     "name": "stdout",
     "output_type": "stream",
     "text": [
      "Hello my name is John\n"
     ]
    }
   ],
   "source": [
    "class Person:\n",
    "  def __init__(self, name, age):\n",
    "    self.name = name\n",
    "    self.age = age\n",
    "\n",
    "  def myfunc(self):\n",
    "    print(\"Hello my name is \" + self.name)\n",
    "\n",
    "p1 = Person(\"John\", 36)\n",
    "p1.myfunc() "
   ]
  },
  {
   "cell_type": "markdown",
   "id": "e083d5d5-0043-4111-a4ee-9f5ab240cd41",
   "metadata": {},
   "source": [
    "## Try Except"
   ]
  },
  {
   "cell_type": "code",
   "execution_count": 52,
   "id": "888c5706-0cb7-46fe-8a02-c6d0672c14f3",
   "metadata": {},
   "outputs": [
    {
     "name": "stdout",
     "output_type": "stream",
     "text": [
      "123\n"
     ]
    }
   ],
   "source": [
    "try:\n",
    "  print('123')\n",
    "except:\n",
    "  print(\"An exception occurred\") "
   ]
  },
  {
   "cell_type": "code",
   "execution_count": null,
   "id": "94ac396e-bf7c-416a-a0a7-1b94c34f3952",
   "metadata": {},
   "outputs": [],
   "source": []
  }
 ],
 "metadata": {
  "kernelspec": {
   "display_name": "Python 3 (ipykernel)",
   "language": "python",
   "name": "python3"
  },
  "language_info": {
   "codemirror_mode": {
    "name": "ipython",
    "version": 3
   },
   "file_extension": ".py",
   "mimetype": "text/x-python",
   "name": "python",
   "nbconvert_exporter": "python",
   "pygments_lexer": "ipython3",
   "version": "3.9.7"
  }
 },
 "nbformat": 4,
 "nbformat_minor": 5
}
